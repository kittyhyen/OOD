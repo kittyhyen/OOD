{
 "cells": [
  {
   "cell_type": "code",
   "execution_count": 4,
   "metadata": {
    "collapsed": true,
    "pycharm": {
     "is_executing": false
    }
   },
   "outputs": [],
   "source": [
    "import torch\n",
    "import torchvision\n",
    "from lib.fcn import FCN"
   ]
  },
  {
   "cell_type": "code",
   "execution_count": 5,
   "outputs": [],
   "source": [
    "gpu_name = \"cuda:0\"\n",
    "device = torch.device(\"cuda:0\" if torch.cuda.is_available() else \"cpu\")"
   ],
   "metadata": {
    "collapsed": false,
    "pycharm": {
     "name": "#%%\n",
     "is_executing": false
    }
   }
  },
  {
   "cell_type": "code",
   "execution_count": 6,
   "outputs": [],
   "source": [
    "path = \"model/FCN_MNIST_%d\"\n",
    "model_list = []\n",
    "for i in range(5):\n",
    "    model = FCN()\n",
    "    model.load_state_dict(torch.load(path%i, map_location=gpu_name))\n",
    "    model = model.to(device)\n",
    "    model_list.append(model)"
   ],
   "metadata": {
    "collapsed": false,
    "pycharm": {
     "name": "#%%\n",
     "is_executing": false
    }
   }
  },
  {
   "cell_type": "code",
   "execution_count": 7,
   "outputs": [],
   "source": [
    "transform = torchvision.transforms.Compose([\n",
    "        torchvision.transforms.ToTensor()\n",
    "])\n",
    "_mnist = torchvision.datasets.MNIST(root='data/mnist', train=False,\n",
    "                                    download=True, transform=transform)\n",
    "mnist = torch.utils.data.DataLoader(_mnist, batch_size=32,\n",
    "                                    shuffle=False, num_workers=2)\n",
    "\n",
    "_fmnist = torchvision.datasets.FashionMNIST(root='data/fmnist', train=False,\n",
    "                                            download=True, transform=transform)\n",
    "fmnist = torch.utils.data.DataLoader(_fmnist, batch_size=32,\n",
    "                                    shuffle=False, num_workers=2)"
   ],
   "metadata": {
    "collapsed": false,
    "pycharm": {
     "name": "#%%\n",
     "is_executing": false
    }
   }
  },
  {
   "cell_type": "code",
   "execution_count": 8,
   "outputs": [],
   "source": [
    "total_m_max = None\n",
    "total_f_max = None\n",
    "\n",
    "model.eval()\n",
    "for m_data, f_data in zip(mnist, fmnist):\n",
    "    m_inputs, _ = m_data\n",
    "    f_inputs, _ = f_data\n",
    "    m_inputs, f_inputs = m_inputs.to(device), f_inputs.to(device)\n",
    "    \n",
    "    m_max = None\n",
    "    f_max = None\n",
    "    for i in range(5): \n",
    "        tmp_m_max = torch.softmax(model_list[i](m_inputs), dim=1).max(1)[0]\n",
    "        tmp_f_max = torch.softmax(model_list[i](f_inputs), dim=1).max(1)[0]\n",
    "        \n",
    "        if m_max is None:\n",
    "            m_max = tmp_m_max\n",
    "            f_max = tmp_f_max\n",
    "        else:\n",
    "            m_max = m_max + tmp_m_max\n",
    "            f_max = f_max + tmp_f_max\n",
    "    m_max /= 5\n",
    "    f_max /= 5\n",
    "            \n",
    "    if total_m_max is None:\n",
    "        total_m_max = m_max\n",
    "        total_f_max = f_max\n",
    "    else:\n",
    "        total_m_max = torch.cat((total_m_max, m_max), dim=0)\n",
    "        total_f_max = torch.cat((total_f_max, f_max), dim=0)"
   ],
   "metadata": {
    "collapsed": false,
    "pycharm": {
     "name": "#%%\n",
     "is_executing": false
    }
   }
  },
  {
   "cell_type": "code",
   "execution_count": 9,
   "outputs": [],
   "source": [
    "total_m_max = total_m_max.detach().cpu().numpy()\n",
    "total_f_max = total_f_max.detach().cpu().numpy()"
   ],
   "metadata": {
    "collapsed": false,
    "pycharm": {
     "name": "#%%\n",
     "is_executing": false
    }
   }
  },
  {
   "cell_type": "code",
   "execution_count": 12,
   "outputs": [],
   "source": [
    "import matplotlib.pyplot as plt\n",
    "plt.hist(total_m_max, bins=100, color='r')\n",
    "plt.hist(total_f_max, bins=100, color='b')\n",
    "plt.show()"
   ],
   "metadata": {
    "collapsed": false,
    "pycharm": {
     "name": "#%%\n",
     "is_executing": false
    }
   }
  },
  {
   "cell_type": "code",
   "execution_count": 11,
   "outputs": [],
   "source": [
    "import numpy as np\n",
    "from sklearn.metrics import roc_auc_score\n",
    "y_true = np.concatenate((np.zeros(10000), np.ones(10000)), axis=0)\n",
    "y_score = np.concatenate((total_f_max, total_m_max), axis=0)\n",
    "\n",
    "print(roc_auc_score(y_true, y_score))\n"
   ],
   "metadata": {
    "collapsed": false,
    "pycharm": {
     "name": "#%%\n",
     "is_executing": false
    }
   }
  }
 ],
 "metadata": {
  "kernelspec": {
   "display_name": "Python 3",
   "language": "python",
   "name": "python3"
  },
  "language_info": {
   "codemirror_mode": {
    "name": "ipython",
    "version": 2
   },
   "file_extension": ".py",
   "mimetype": "text/x-python",
   "name": "python",
   "nbconvert_exporter": "python",
   "pygments_lexer": "ipython2",
   "version": "2.7.6"
  },
  "pycharm": {
   "stem_cell": {
    "cell_type": "raw",
    "source": [],
    "metadata": {
     "collapsed": false
    }
   }
  }
 },
 "nbformat": 4,
 "nbformat_minor": 0
}